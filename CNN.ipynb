{
 "cells": [
  {
   "cell_type": "markdown",
   "metadata": {},
   "source": [
    "# Convolutional neural networks\n",
    "\n",
    "In this notebook, we'll put together our convolutional layers to implement a 3-layer CNN.  Then, we'll ask you to implement a CNN that can achieve > 65% validation error on CIFAR-10.\n",
    "\n",
    "CS231n has built a solid API for building these modular frameworks and training them, and we will use their very well implemented framework as opposed to \"reinventing the wheel.\"  This includes using their Solver, various utility functions, their layer structure, and their implementation of fast CNN layers.  This also includes nndl.fc_net, nndl.layers, and nndl.layer_utils.  As in prior assignments, we thank Serena Yeung & Justin Johnson for permission to use code written for the CS 231n class (cs231n.stanford.edu).  \n",
    "\n",
    "If you have not completed the Spatial BatchNorm Notebook, please see the following description from that notebook:\n",
    "\n",
    "Please copy and paste your prior implemented code from HW #4 to start this assignment.  If you did not correctly implement the layers in HW #4, you may collaborate with a classmate to use their layer implementations from HW #4.  You may also visit TA or Prof OH to correct your implementation.  \n",
    "\n",
    "You'll want to copy and paste from HW #4:\n",
    "    - layers.py for your FC network layers, as well as batchnorm and dropout.\n",
    "    - layer_utils.py for your combined FC network layers.\n",
    "    - optim.py for your optimizers.\n",
    "\n",
    "Be sure to place these in the `nndl/` directory so they're imported correctly.  Note, as announced in class, we will not be releasing our solutions."
   ]
  },
  {
   "cell_type": "code",
   "execution_count": 45,
   "metadata": {},
   "outputs": [
    {
     "name": "stdout",
     "output_type": "stream",
     "text": [
      "The autoreload extension is already loaded. To reload it, use:\n",
      "  %reload_ext autoreload\n"
     ]
    }
   ],
   "source": [
    "# As usual, a bit of setup\n",
    "\n",
    "import numpy as np\n",
    "import matplotlib.pyplot as plt\n",
    "from nndl.cnn import *\n",
    "from nndl.myCNN import *\n",
    "from cs231n.data_utils import get_CIFAR10_data\n",
    "from cs231n.gradient_check import eval_numerical_gradient_array, eval_numerical_gradient\n",
    "from nndl.layers import *\n",
    "from nndl.conv_layers import *\n",
    "from cs231n.fast_layers import *\n",
    "from cs231n.solver import Solver\n",
    "\n",
    "%matplotlib inline\n",
    "plt.rcParams['figure.figsize'] = (10.0, 8.0) # set default size of plots\n",
    "plt.rcParams['image.interpolation'] = 'nearest'\n",
    "plt.rcParams['image.cmap'] = 'gray'\n",
    "\n",
    "# for auto-reloading external modules\n",
    "# see http://stackoverflow.com/questions/1907993/autoreload-of-modules-in-ipython\n",
    "%load_ext autoreload\n",
    "%autoreload 2\n",
    "\n",
    "def rel_error(x, y):\n",
    "  \"\"\" returns relative error \"\"\"\n",
    "  return np.max(np.abs(x - y) / (np.maximum(1e-8, np.abs(x) + np.abs(y))))"
   ]
  },
  {
   "cell_type": "code",
   "execution_count": 3,
   "metadata": {},
   "outputs": [
    {
     "name": "stdout",
     "output_type": "stream",
     "text": [
      "X_train: (49000, 3, 32, 32) \n",
      "y_train: (49000,) \n",
      "X_val: (1000, 3, 32, 32) \n",
      "y_val: (1000,) \n",
      "X_test: (1000, 3, 32, 32) \n",
      "y_test: (1000,) \n"
     ]
    }
   ],
   "source": [
    "# Load the (preprocessed) CIFAR10 data.\n",
    "\n",
    "data = get_CIFAR10_data()\n",
    "for k in data.keys():\n",
    "  print('{}: {} '.format(k, data[k].shape))"
   ]
  },
  {
   "cell_type": "markdown",
   "metadata": {},
   "source": [
    "## Three layer CNN\n",
    "\n",
    "In this notebook, you will implement a three layer CNN.  The `ThreeLayerConvNet` class is in `nndl/cnn.py`.  You'll need to modify that code for this section, including the initialization, as well as the calculation of the loss and gradients.  You should be able to use the building blocks you have either earlier coded or that we have provided.  Be sure to use the fast layers.\n",
    "\n",
    "The architecture of this CNN will be:\n",
    "\n",
    "conv - relu - 2x2 max pool - affine - relu - affine - softmax\n",
    "\n",
    "We won't use batchnorm yet.  You've also done enough of these to know how to debug; use the cells below.\n",
    "\n",
    "Note: As we are implementing several layers CNN networks. The gradient error can be expected for the `eval_numerical_gradient()` function. If your `W1 max relative error` and `W2 max relative error` are around or below 0.01, they should be acceptable. Other errors should be less than 1e-5. "
   ]
  },
  {
   "cell_type": "code",
   "execution_count": 6,
   "metadata": {},
   "outputs": [
    {
     "name": "stdout",
     "output_type": "stream",
     "text": [
      "W1 max relative error: 0.00023734957763129952\n",
      "W2 max relative error: 0.0025409573799180657\n",
      "W3 max relative error: 2.0310484691233543e-05\n",
      "b1 max relative error: 8.049661477842352e-06\n",
      "b2 max relative error: 1.1499269736405189e-07\n",
      "b3 max relative error: 9.711813970270705e-10\n"
     ]
    }
   ],
   "source": [
    "num_inputs = 2\n",
    "input_dim = (3, 16, 16)\n",
    "reg = 0.0\n",
    "num_classes = 10\n",
    "X = np.random.randn(num_inputs, *input_dim)\n",
    "y = np.random.randint(num_classes, size=num_inputs)\n",
    "\n",
    "model = ThreeLayerConvNet(num_filters=3, filter_size=3,\n",
    "                          input_dim=input_dim, hidden_dim=7,\n",
    "                          dtype=np.float64)\n",
    "loss, grads = model.loss(X, y)\n",
    "for param_name in sorted(grads):\n",
    "    f = lambda _: model.loss(X, y)[0]\n",
    "    param_grad_num = eval_numerical_gradient(f, model.params[param_name], verbose=False, h=1e-6)\n",
    "    e = rel_error(param_grad_num, grads[param_name])\n",
    "    print('{} max relative error: {}'.format(param_name, rel_error(param_grad_num, grads[param_name])))"
   ]
  },
  {
   "cell_type": "markdown",
   "metadata": {},
   "source": [
    "### Overfit small dataset\n",
    "\n",
    "To check your CNN implementation, let's overfit a small dataset."
   ]
  },
  {
   "cell_type": "code",
   "execution_count": 7,
   "metadata": {},
   "outputs": [
    {
     "name": "stdout",
     "output_type": "stream",
     "text": [
      "(Iteration 1 / 20) loss: 2.272283\n",
      "(Epoch 0 / 10) train acc: 0.230000; val_acc: 0.118000\n",
      "(Iteration 2 / 20) loss: 3.721651\n",
      "(Epoch 1 / 10) train acc: 0.270000; val_acc: 0.144000\n",
      "(Iteration 3 / 20) loss: 2.184436\n",
      "(Iteration 4 / 20) loss: 2.255825\n",
      "(Epoch 2 / 10) train acc: 0.390000; val_acc: 0.127000\n",
      "(Iteration 5 / 20) loss: 2.148156\n",
      "(Iteration 6 / 20) loss: 1.838397\n",
      "(Epoch 3 / 10) train acc: 0.480000; val_acc: 0.182000\n",
      "(Iteration 7 / 20) loss: 1.766533\n",
      "(Iteration 8 / 20) loss: 1.517743\n",
      "(Epoch 4 / 10) train acc: 0.630000; val_acc: 0.180000\n",
      "(Iteration 9 / 20) loss: 1.421532\n",
      "(Iteration 10 / 20) loss: 1.030895\n",
      "(Epoch 5 / 10) train acc: 0.570000; val_acc: 0.133000\n",
      "(Iteration 11 / 20) loss: 1.312471\n",
      "(Iteration 12 / 20) loss: 0.965939\n",
      "(Epoch 6 / 10) train acc: 0.660000; val_acc: 0.199000\n",
      "(Iteration 13 / 20) loss: 0.889978\n",
      "(Iteration 14 / 20) loss: 1.141641\n",
      "(Epoch 7 / 10) train acc: 0.790000; val_acc: 0.198000\n",
      "(Iteration 15 / 20) loss: 0.741463\n",
      "(Iteration 16 / 20) loss: 0.658083\n",
      "(Epoch 8 / 10) train acc: 0.820000; val_acc: 0.212000\n",
      "(Iteration 17 / 20) loss: 0.717830\n",
      "(Iteration 18 / 20) loss: 0.361223\n",
      "(Epoch 9 / 10) train acc: 0.880000; val_acc: 0.225000\n",
      "(Iteration 19 / 20) loss: 0.436541\n",
      "(Iteration 20 / 20) loss: 0.359904\n",
      "(Epoch 10 / 10) train acc: 0.910000; val_acc: 0.256000\n"
     ]
    }
   ],
   "source": [
    "num_train = 100\n",
    "small_data = {\n",
    "  'X_train': data['X_train'][:num_train],\n",
    "  'y_train': data['y_train'][:num_train],\n",
    "  'X_val': data['X_val'],\n",
    "  'y_val': data['y_val'],\n",
    "}\n",
    "\n",
    "model = ThreeLayerConvNet(weight_scale=1e-2)\n",
    "\n",
    "solver = Solver(model, small_data,\n",
    "                num_epochs=10, batch_size=50,\n",
    "                update_rule='adam',\n",
    "                optim_config={\n",
    "                  'learning_rate': 1e-3,\n",
    "                },\n",
    "                verbose=True, print_every=1)\n",
    "solver.train()"
   ]
  },
  {
   "cell_type": "code",
   "execution_count": 8,
   "metadata": {},
   "outputs": [
    {
     "data": {
      "image/png": "[encoded data removed]",
      "text/plain": [
       "<Figure size 432x288 with 2 Axes>"
      ]
     },
     "metadata": {
      "needs_background": "light"
     },
     "output_type": "display_data"
    }
   ],
   "source": [
    "plt.subplot(2, 1, 1)\n",
    "plt.plot(solver.loss_history, 'o')\n",
    "plt.xlabel('iteration')\n",
    "plt.ylabel('loss')\n",
    "\n",
    "plt.subplot(2, 1, 2)\n",
    "plt.plot(solver.train_acc_history, '-o')\n",
    "plt.plot(solver.val_acc_history, '-o')\n",
    "plt.legend(['train', 'val'], loc='upper left')\n",
    "plt.xlabel('epoch')\n",
    "plt.ylabel('accuracy')\n",
    "plt.show()"
   ]
  },
  {
   "cell_type": "markdown",
   "metadata": {},
   "source": [
    "## Train the network\n",
    "\n",
    "Now we train the 3 layer CNN on CIFAR-10 and assess its accuracy."
   ]
  },
  {
   "cell_type": "code",
   "execution_count": 9,
   "metadata": {
    "scrolled": false
   },
   "outputs": [
    {
     "name": "stdout",
     "output_type": "stream",
     "text": [
      "(Iteration 1 / 980) loss: 2.304451\n",
      "(Epoch 0 / 1) train acc: 0.092000; val_acc: 0.119000\n",
      "(Iteration 21 / 980) loss: 2.108112\n",
      "(Iteration 41 / 980) loss: 2.065536\n",
      "(Iteration 61 / 980) loss: 1.687729\n",
      "(Iteration 81 / 980) loss: 1.894898\n",
      "(Iteration 101 / 980) loss: 1.752997\n",
      "(Iteration 121 / 980) loss: 1.560583\n",
      "(Iteration 141 / 980) loss: 1.785013\n",
      "(Iteration 161 / 980) loss: 1.934386\n",
      "(Iteration 181 / 980) loss: 1.787646\n",
      "(Iteration 201 / 980) loss: 1.947071\n",
      "(Iteration 221 / 980) loss: 2.120853\n",
      "(Iteration 241 / 980) loss: 1.758472\n",
      "(Iteration 261 / 980) loss: 1.960130\n",
      "(Iteration 281 / 980) loss: 1.545326\n",
      "(Iteration 301 / 980) loss: 1.527694\n",
      "(Iteration 321 / 980) loss: 1.871418\n",
      "(Iteration 341 / 980) loss: 1.442773\n",
      "(Iteration 361 / 980) loss: 1.848735\n",
      "(Iteration 381 / 980) loss: 1.584130\n",
      "(Iteration 401 / 980) loss: 1.556085\n",
      "(Iteration 421 / 980) loss: 1.485905\n",
      "(Iteration 441 / 980) loss: 1.675953\n",
      "(Iteration 461 / 980) loss: 1.684977\n",
      "(Iteration 481 / 980) loss: 1.520327\n",
      "(Iteration 501 / 980) loss: 1.739655\n",
      "(Iteration 521 / 980) loss: 1.407169\n",
      "(Iteration 541 / 980) loss: 1.621515\n",
      "(Iteration 561 / 980) loss: 1.840298\n",
      "(Iteration 581 / 980) loss: 1.693322\n",
      "(Iteration 601 / 980) loss: 1.565955\n",
      "(Iteration 621 / 980) loss: 1.925859\n",
      "(Iteration 641 / 980) loss: 1.447977\n",
      "(Iteration 661 / 980) loss: 1.756286\n",
      "(Iteration 681 / 980) loss: 1.659116\n",
      "(Iteration 701 / 980) loss: 1.503117\n",
      "(Iteration 721 / 980) loss: 1.762069\n",
      "(Iteration 741 / 980) loss: 1.578442\n",
      "(Iteration 761 / 980) loss: 1.758978\n",
      "(Iteration 781 / 980) loss: 1.774861\n",
      "(Iteration 801 / 980) loss: 1.545410\n",
      "(Iteration 821 / 980) loss: 1.216985\n",
      "(Iteration 841 / 980) loss: 1.411303\n",
      "(Iteration 861 / 980) loss: 1.584026\n",
      "(Iteration 881 / 980) loss: 1.400680\n",
      "(Iteration 901 / 980) loss: 1.691650\n",
      "(Iteration 921 / 980) loss: 1.334306\n",
      "(Iteration 941 / 980) loss: 1.595989\n",
      "(Iteration 961 / 980) loss: 1.658950\n",
      "(Epoch 1 / 1) train acc: 0.450000; val_acc: 0.461000\n"
     ]
    }
   ],
   "source": [
    "model = ThreeLayerConvNet(weight_scale=0.001, hidden_dim=500, reg=0.001)\n",
    "\n",
    "solver = Solver(model, data,\n",
    "                num_epochs=1, batch_size=50,\n",
    "                update_rule='adam',\n",
    "                optim_config={\n",
    "                  'learning_rate': 1e-3,\n",
    "                },\n",
    "                verbose=True, print_every=20)\n",
    "solver.train()"
   ]
  },
  {
   "cell_type": "markdown",
   "metadata": {},
   "source": [
    "# Get > 65% validation accuracy on CIFAR-10.\n",
    "\n",
    "In the last part of the assignment, we'll now ask you to train a CNN to get better than 65% validation accuracy on CIFAR-10.\n",
    "\n",
    "### Things you should try:\n",
    "- Filter size: Above we used 7x7; but VGGNet and onwards showed stacks of 3x3 filters are good.  \n",
    "- Number of filters: Above we used 32 filters. Do more or fewer do better?\n",
    "- Batch normalization: Try adding spatial batch normalization after convolution layers and vanilla batch normalization aafter affine layers. Do your networks train faster?\n",
    "- Network architecture: Can a deeper CNN do better?  Consider these architectures:\n",
    "    - [conv-relu-pool]xN - conv - relu - [affine]xM - [softmax or SVM]\n",
    "    - [conv-relu-pool]XN - [affine]XM - [softmax or SVM]\n",
    "    - [conv-relu-conv-relu-pool]xN - [affine]xM - [softmax or SVM]\n",
    "\n",
    "### Tips for training\n",
    "For each network architecture that you try, you should tune the learning rate and regularization strength. When doing this there are a couple important things to keep in mind:\n",
    "\n",
    "- If the parameters are working well, you should see improvement within a few hundred iterations\n",
    "- Remember the coarse-to-fine approach for hyperparameter tuning: start by testing a large range of hyperparameters for just a few training iterations to find the combinations of parameters that are working at all.\n",
    "- Once you have found some sets of parameters that seem to work, search more finely around these parameters. You may need to train for more epochs."
   ]
  },
  {
   "cell_type": "code",
   "execution_count": 60,
   "metadata": {
    "scrolled": false
   },
   "outputs": [
    {
     "name": "stdout",
     "output_type": "stream",
     "text": [
      "(Iteration 1 / 2940) loss: 4.483779\n",
      "(Epoch 0 / 3) train acc: 0.150000; val_acc: 0.148000\n",
      "(Iteration 21 / 2940) loss: 3.835905\n",
      "(Iteration 41 / 2940) loss: 3.668374\n",
      "(Iteration 61 / 2940) loss: 3.448741\n",
      "(Iteration 81 / 2940) loss: 3.256086\n",
      "(Iteration 101 / 2940) loss: 3.178641\n",
      "(Iteration 121 / 2940) loss: 2.765965\n",
      "(Iteration 141 / 2940) loss: 2.812725\n",
      "(Iteration 161 / 2940) loss: 2.543361\n",
      "(Iteration 181 / 2940) loss: 2.576953\n",
      "(Iteration 201 / 2940) loss: 2.378530\n",
      "(Iteration 221 / 2940) loss: 2.426544\n",
      "(Iteration 241 / 2940) loss: 2.364386\n",
      "(Iteration 261 / 2940) loss: 2.216537\n",
      "(Iteration 281 / 2940) loss: 2.228801\n",
      "(Iteration 301 / 2940) loss: 2.322728\n",
      "(Iteration 321 / 2940) loss: 2.179462\n",
      "(Iteration 341 / 2940) loss: 1.857875\n",
      "(Iteration 361 / 2940) loss: 1.808097\n",
      "(Iteration 381 / 2940) loss: 1.840731\n",
      "(Iteration 401 / 2940) loss: 1.831913\n",
      "(Iteration 421 / 2940) loss: 1.856525\n",
      "(Iteration 441 / 2940) loss: 1.977312\n",
      "(Iteration 461 / 2940) loss: 1.654435\n",
      "(Iteration 481 / 2940) loss: 1.789284\n",
      "(Iteration 501 / 2940) loss: 1.743479\n",
      "(Iteration 521 / 2940) loss: 1.769800\n",
      "(Iteration 541 / 2940) loss: 1.662445\n",
      "(Iteration 561 / 2940) loss: 1.662375\n",
      "(Iteration 581 / 2940) loss: 1.855926\n",
      "(Iteration 601 / 2940) loss: 1.999157\n",
      "(Iteration 621 / 2940) loss: 1.692289\n",
      "(Iteration 641 / 2940) loss: 1.523533\n",
      "(Iteration 661 / 2940) loss: 1.655446\n",
      "(Iteration 681 / 2940) loss: 1.503397\n",
      "(Iteration 701 / 2940) loss: 1.321247\n",
      "(Iteration 721 / 2940) loss: 1.567421\n",
      "(Iteration 741 / 2940) loss: 1.321529\n",
      "(Iteration 761 / 2940) loss: 1.471638\n",
      "(Iteration 781 / 2940) loss: 1.447868\n",
      "(Iteration 801 / 2940) loss: 1.813136\n",
      "(Iteration 821 / 2940) loss: 1.724022\n",
      "(Iteration 841 / 2940) loss: 1.708988\n",
      "(Iteration 861 / 2940) loss: 1.304602\n",
      "(Iteration 881 / 2940) loss: 1.187337\n",
      "(Iteration 901 / 2940) loss: 1.654862\n",
      "(Iteration 921 / 2940) loss: 1.522627\n",
      "(Iteration 941 / 2940) loss: 1.342362\n",
      "(Iteration 961 / 2940) loss: 1.248861\n",
      "(Epoch 1 / 3) train acc: 0.671000; val_acc: 0.643000\n",
      "(Iteration 981 / 2940) loss: 1.301256\n",
      "(Iteration 1001 / 2940) loss: 1.279416\n",
      "(Iteration 1021 / 2940) loss: 1.522538\n",
      "(Iteration 1041 / 2940) loss: 1.535150\n",
      "(Iteration 1061 / 2940) loss: 1.555870\n",
      "(Iteration 1081 / 2940) loss: 1.117180\n",
      "(Iteration 1101 / 2940) loss: 1.337913\n",
      "(Iteration 1121 / 2940) loss: 1.367388\n",
      "(Iteration 1141 / 2940) loss: 1.491929\n",
      "(Iteration 1161 / 2940) loss: 1.405910\n",
      "(Iteration 1181 / 2940) loss: 1.525569\n",
      "(Iteration 1201 / 2940) loss: 1.237750\n",
      "(Iteration 1221 / 2940) loss: 2.089417\n",
      "(Iteration 1241 / 2940) loss: 1.241696\n",
      "(Iteration 1261 / 2940) loss: 1.407316\n",
      "(Iteration 1281 / 2940) loss: 1.209377\n",
      "(Iteration 1301 / 2940) loss: 1.518077\n",
      "(Iteration 1321 / 2940) loss: 1.624844\n",
      "(Iteration 1341 / 2940) loss: 1.162403\n",
      "(Iteration 1361 / 2940) loss: 1.676079\n",
      "(Iteration 1381 / 2940) loss: 1.251390\n",
      "(Iteration 1401 / 2940) loss: 1.262025\n",
      "(Iteration 1421 / 2940) loss: 1.154810\n",
      "(Iteration 1441 / 2940) loss: 1.267107\n",
      "(Iteration 1461 / 2940) loss: 1.297045\n",
      "(Iteration 1481 / 2940) loss: 1.432478\n",
      "(Iteration 1501 / 2940) loss: 1.378493\n",
      "(Iteration 1521 / 2940) loss: 1.556995\n",
      "(Iteration 1541 / 2940) loss: 1.131036\n",
      "(Iteration 1561 / 2940) loss: 1.174556\n",
      "(Iteration 1581 / 2940) loss: 1.465785\n",
      "(Iteration 1601 / 2940) loss: 1.361001\n",
      "(Iteration 1621 / 2940) loss: 1.159926\n",
      "(Iteration 1641 / 2940) loss: 1.340512\n",
      "(Iteration 1661 / 2940) loss: 1.360100\n",
      "(Iteration 1681 / 2940) loss: 1.400781\n",
      "(Iteration 1701 / 2940) loss: 1.441182\n",
      "(Iteration 1721 / 2940) loss: 1.370004\n",
      "(Iteration 1741 / 2940) loss: 1.341009\n",
      "(Iteration 1761 / 2940) loss: 1.335887\n",
      "(Iteration 1781 / 2940) loss: 1.171833\n",
      "(Iteration 1801 / 2940) loss: 1.442223\n",
      "(Iteration 1821 / 2940) loss: 1.372817\n",
      "(Iteration 1841 / 2940) loss: 1.240785\n",
      "(Iteration 1861 / 2940) loss: 1.749308\n",
      "(Iteration 1881 / 2940) loss: 1.248337\n",
      "(Iteration 1901 / 2940) loss: 1.062585\n",
      "(Iteration 1921 / 2940) loss: 1.247470\n",
      "(Iteration 1941 / 2940) loss: 1.125738\n",
      "(Epoch 2 / 3) train acc: 0.709000; val_acc: 0.685000\n",
      "(Iteration 1961 / 2940) loss: 1.573115\n",
      "(Iteration 1981 / 2940) loss: 1.391567\n",
      "(Iteration 2001 / 2940) loss: 1.554932\n",
      "(Iteration 2021 / 2940) loss: 1.101492\n",
      "(Iteration 2041 / 2940) loss: 1.282446\n",
      "(Iteration 2061 / 2940) loss: 1.430933\n",
      "(Iteration 2081 / 2940) loss: 1.198969\n",
      "(Iteration 2101 / 2940) loss: 1.320323\n",
      "(Iteration 2121 / 2940) loss: 1.455474\n",
      "(Iteration 2141 / 2940) loss: 1.283402\n",
      "(Iteration 2161 / 2940) loss: 1.092783\n",
      "(Iteration 2181 / 2940) loss: 1.182440\n",
      "(Iteration 2201 / 2940) loss: 1.251908\n",
      "(Iteration 2221 / 2940) loss: 1.385356\n",
      "(Iteration 2241 / 2940) loss: 0.999404\n",
      "(Iteration 2261 / 2940) loss: 1.115456\n",
      "(Iteration 2281 / 2940) loss: 1.400994\n",
      "(Iteration 2301 / 2940) loss: 1.189177\n",
      "(Iteration 2321 / 2940) loss: 1.214659\n",
      "(Iteration 2341 / 2940) loss: 1.536405\n",
      "(Iteration 2361 / 2940) loss: 1.156202\n",
      "(Iteration 2381 / 2940) loss: 1.125887\n",
      "(Iteration 2401 / 2940) loss: 1.199311\n",
      "(Iteration 2421 / 2940) loss: 1.284616\n",
      "(Iteration 2441 / 2940) loss: 1.382321\n",
      "(Iteration 2461 / 2940) loss: 1.144272\n",
      "(Iteration 2481 / 2940) loss: 1.475686\n",
      "(Iteration 2501 / 2940) loss: 1.378785\n",
      "(Iteration 2521 / 2940) loss: 1.120771\n",
      "(Iteration 2541 / 2940) loss: 1.000624\n",
      "(Iteration 2561 / 2940) loss: 1.222693\n",
      "(Iteration 2581 / 2940) loss: 1.162677\n",
      "(Iteration 2601 / 2940) loss: 1.211082\n",
      "(Iteration 2621 / 2940) loss: 1.330349\n",
      "(Iteration 2641 / 2940) loss: 1.080902\n",
      "(Iteration 2661 / 2940) loss: 1.488063\n",
      "(Iteration 2681 / 2940) loss: 0.896550\n",
      "(Iteration 2701 / 2940) loss: 1.225076\n",
      "(Iteration 2721 / 2940) loss: 1.302989\n",
      "(Iteration 2741 / 2940) loss: 1.391025\n",
      "(Iteration 2761 / 2940) loss: 1.629405\n",
      "(Iteration 2781 / 2940) loss: 1.309500\n",
      "(Iteration 2801 / 2940) loss: 1.136458\n",
      "(Iteration 2821 / 2940) loss: 1.166744\n",
      "(Iteration 2841 / 2940) loss: 1.010128\n",
      "(Iteration 2861 / 2940) loss: 1.141369\n",
      "(Iteration 2881 / 2940) loss: 1.408153\n",
      "(Iteration 2901 / 2940) loss: 1.149778\n",
      "(Iteration 2921 / 2940) loss: 1.045982\n",
      "(Epoch 3 / 3) train acc: 0.715000; val_acc: 0.702000\n"
     ]
    }
   ],
   "source": [
    "# ================================================================ #\n",
    "# YOUR CODE HERE:\n",
    "#   Implement a CNN to achieve greater than 65% validation accuracy\n",
    "#   on CIFAR-10.\n",
    "# ================================================================ #\n",
    "\n",
    "# 4x[3x3 convolution - relu - batch norm - 2x2 max-pooling] -> 2x[affine - relu] -> affine -> softmax\n",
    "model = MyConvNet2(num_filters=[16, 32, 64, 128], filter_size=3, hidden_dims=[124, 124], weight_scale=0.05, reg=0.01, use_batchnorm=True)\n",
    "\n",
    "solver = Solver(model, data,\n",
    "                num_epochs=3, batch_size=50,\n",
    "                update_rule='adam',\n",
    "                optim_config={\n",
    "                  'learning_rate': 1e-3,\n",
    "                },\n",
    "                verbose=True, print_every=20)\n",
    "solver.train()\n",
    "# ================================================================ #\n",
    "# END YOUR CODE HERE\n",
    "# ================================================================ #\n"
   ]
  },
  {
   "cell_type": "code",
   "execution_count": 61,
   "metadata": {},
   "outputs": [
    {
     "name": "stdout",
     "output_type": "stream",
     "text": [
      "Validation set accuracy: 0.704\n"
     ]
    }
   ],
   "source": [
    "y_test_pred = np.argmax(model.loss(data['X_val']), axis=1)\n",
    "print('Validation set accuracy: {}'.format(np.mean(y_test_pred == data['y_val'])))"
   ]
  },
  {
   "cell_type": "code",
   "execution_count": null,
   "metadata": {},
   "outputs": [],
   "source": []
  }
 ],
 "metadata": {
  "kernelspec": {
   "display_name": "Python 3",
   "language": "python",
   "name": "python3"
  },
  "language_info": {
   "codemirror_mode": {
    "name": "ipython",
    "version": 3
   },
   "file_extension": ".py",
   "mimetype": "text/x-python",
   "name": "python",
   "nbconvert_exporter": "python",
   "pygments_lexer": "ipython3",
   "version": "3.7.1"
  }
 },
 "nbformat": 4,
 "nbformat_minor": 2
}
