{
 "cells": [
  {
   "cell_type": "markdown",
   "metadata": {},
   "source": [
    "# Dropout\n",
    "\n",
    "In this notebook, you will implement dropout.  Then we will ask you to train a network with batchnorm and dropout, and acheive over 60% accuracy on CIFAR-10.\n",
    "\n",
    "CS231n has built a solid API for building these modular frameworks and training them, and we will use their very well implemented framework as opposed to \"reinventing the wheel.\"  This includes using their Solver, various utility functions, and their layer structure.  This also includes nndl.fc_net, nndl.layers, and nndl.layer_utils.  As in prior assignments, we thank Serena Yeung & Justin Johnson for permission to use code written for the CS 231n class (cs231n.stanford.edu).  "
   ]
  },
  {
   "cell_type": "code",
   "execution_count": 1,
   "metadata": {},
   "outputs": [],
   "source": [
    "## Import and setups\n",
    "\n",
    "import time\n",
    "import numpy as np\n",
    "import matplotlib.pyplot as plt\n",
    "from nndl.fc_net import *\n",
    "from nndl.layers import *\n",
    "from cs231n.data_utils import get_CIFAR10_data\n",
    "from cs231n.gradient_check import eval_numerical_gradient, eval_numerical_gradient_array\n",
    "from cs231n.solver import Solver\n",
    "\n",
    "%matplotlib inline\n",
    "plt.rcParams['figure.figsize'] = (10.0, 8.0) # set default size of plots\n",
    "plt.rcParams['image.interpolation'] = 'nearest'\n",
    "plt.rcParams['image.cmap'] = 'gray'\n",
    "\n",
    "# for auto-reloading external modules\n",
    "# see http://stackoverflow.com/questions/1907993/autoreload-of-modules-in-ipython\n",
    "%load_ext autoreload\n",
    "%autoreload 2\n",
    "\n",
    "def rel_error(x, y):\n",
    "  \"\"\" returns relative error \"\"\"\n",
    "  return np.max(np.abs(x - y) / (np.maximum(1e-8, np.abs(x) + np.abs(y))))"
   ]
  },
  {
   "cell_type": "code",
   "execution_count": 2,
   "metadata": {},
   "outputs": [
    {
     "name": "stdout",
     "output_type": "stream",
     "text": [
      "X_train: (49000, 3, 32, 32) \n",
      "y_train: (49000,) \n",
      "X_val: (1000, 3, 32, 32) \n",
      "y_val: (1000,) \n",
      "X_test: (1000, 3, 32, 32) \n",
      "y_test: (1000,) \n"
     ]
    }
   ],
   "source": [
    "# Load the (preprocessed) CIFAR10 data.\n",
    "\n",
    "data = get_CIFAR10_data()\n",
    "for k in data.keys():\n",
    "  print('{}: {} '.format(k, data[k].shape))"
   ]
  },
  {
   "cell_type": "markdown",
   "metadata": {},
   "source": [
    "## Dropout forward pass\n",
    "\n",
    "Implement the training and test time dropout forward pass, `dropout_forward`, in `nndl/layers.py`. After that, test your implementation by running the following cell."
   ]
  },
  {
   "cell_type": "code",
   "execution_count": 4,
   "metadata": {},
   "outputs": [
    {
     "name": "stdout",
     "output_type": "stream",
     "text": [
      "Running tests with p =  0.3\n",
      "Mean of input:  10.000084285848613\n",
      "Mean of train-time output:  10.000974517936076\n",
      "Mean of test-time output:  10.000084285848613\n",
      "Fraction of train-time output set to zero:  0.700004\n",
      "Fraction of test-time output set to zero:  0.0\n",
      "Running tests with p =  0.6\n",
      "Mean of input:  10.000084285848613\n",
      "Mean of train-time output:  10.02292192284766\n",
      "Mean of test-time output:  10.000084285848613\n",
      "Fraction of train-time output set to zero:  0.39862\n",
      "Fraction of test-time output set to zero:  0.0\n",
      "Running tests with p =  0.75\n",
      "Mean of input:  10.000084285848613\n",
      "Mean of train-time output:  10.010035091712805\n",
      "Mean of test-time output:  10.000084285848613\n",
      "Fraction of train-time output set to zero:  0.2494\n",
      "Fraction of test-time output set to zero:  0.0\n"
     ]
    }
   ],
   "source": [
    "x = np.random.randn(500, 500) + 10\n",
    "\n",
    "for p in [0.3, 0.6, 0.75]:\n",
    "  out, _ = dropout_forward(x, {'mode': 'train', 'p': p})\n",
    "  out_test, _ = dropout_forward(x, {'mode': 'test', 'p': p})\n",
    "\n",
    "  print('Running tests with p = ', p)\n",
    "  print('Mean of input: ', x.mean())\n",
    "  print('Mean of train-time output: ', out.mean())\n",
    "  print('Mean of test-time output: ', out_test.mean())\n",
    "  print('Fraction of train-time output set to zero: ', (out == 0).mean())\n",
    "  print('Fraction of test-time output set to zero: ', (out_test == 0).mean())"
   ]
  },
  {
   "cell_type": "markdown",
   "metadata": {},
   "source": [
    "## Dropout backward pass\n",
    "\n",
    "Implement the backward pass, `dropout_backward`, in `nndl/layers.py`.  After that, test your gradients by running the following cell:"
   ]
  },
  {
   "cell_type": "code",
   "execution_count": 5,
   "metadata": {},
   "outputs": [
    {
     "name": "stdout",
     "output_type": "stream",
     "text": [
      "dx relative error:  5.445612836080102e-11\n"
     ]
    }
   ],
   "source": [
    "x = np.random.randn(10, 10) + 10\n",
    "dout = np.random.randn(*x.shape)\n",
    "\n",
    "dropout_param = {'mode': 'train', 'p': 0.8, 'seed': 123}\n",
    "out, cache = dropout_forward(x, dropout_param)\n",
    "dx = dropout_backward(dout, cache)\n",
    "dx_num = eval_numerical_gradient_array(lambda xx: dropout_forward(xx, dropout_param)[0], x, dout)\n",
    "\n",
    "print('dx relative error: ', rel_error(dx, dx_num))"
   ]
  },
  {
   "cell_type": "markdown",
   "metadata": {},
   "source": [
    "## Implement a fully connected neural network with dropout layers\n",
    "\n",
    "Modify the `FullyConnectedNet()` class in `nndl/fc_net.py` to incorporate dropout.  A dropout layer should be incorporated after every ReLU layer.  Concretely, there shouldn't be a dropout at the output layer since there is no ReLU at the output layer. You will need to modify the class in the following areas:\n",
    "\n",
    "(1) In the forward pass, you will need to incorporate a dropout layer after every relu layer.\n",
    "\n",
    "(2) In the backward pass, you will need to incorporate a dropout backward pass layer.\n",
    "\n",
    "Check your implementation by running the following code.  Our W1 gradient relative error is on the order of 1e-6 (the largest of all the relative errors)."
   ]
  },
  {
   "cell_type": "code",
   "execution_count": 6,
   "metadata": {},
   "outputs": [
    {
     "name": "stdout",
     "output_type": "stream",
     "text": [
      "Running check with dropout =  0\n",
      "Initial loss:  2.3051948273987857\n",
      "W1 relative error: 2.5272575351926774e-07\n",
      "W2 relative error: 1.5034484923408755e-05\n",
      "W3 relative error: 2.753446897744538e-07\n",
      "b1 relative error: 2.93695746140462e-06\n",
      "b2 relative error: 5.0513392951881574e-08\n",
      "b3 relative error: 1.1740467838205477e-10\n",
      "\n",
      "\n",
      "Running check with dropout =  0.25\n",
      "Initial loss:  2.3126468345657742\n",
      "W1 relative error: 1.4838546739636279e-08\n",
      "W2 relative error: 2.34278233273103e-10\n",
      "W3 relative error: 3.5644548843987765e-08\n",
      "b1 relative error: 1.5292179223310147e-09\n",
      "b2 relative error: 1.8422707371047494e-10\n",
      "b3 relative error: 8.701800136729388e-11\n",
      "\n",
      "\n",
      "Running check with dropout =  0.5\n",
      "Initial loss:  2.302437587710995\n",
      "W1 relative error: 4.553388018985473e-08\n",
      "W2 relative error: 2.9742181064823555e-08\n",
      "W3 relative error: 4.3413246357224405e-07\n",
      "b1 relative error: 1.872463027156301e-08\n",
      "b2 relative error: 5.045590828136527e-09\n",
      "b3 relative error: 7.487013797161614e-11\n",
      "\n",
      "\n"
     ]
    }
   ],
   "source": [
    "N, D, H1, H2, C = 2, 15, 20, 30, 10\n",
    "X = np.random.randn(N, D)\n",
    "y = np.random.randint(C, size=(N,))\n",
    "\n",
    "for dropout in [0, 0.25, 0.5]:\n",
    "  print('Running check with dropout = ', dropout)\n",
    "  model = FullyConnectedNet([H1, H2], input_dim=D, num_classes=C,\n",
    "                            weight_scale=5e-2, dtype=np.float64,\n",
    "                            dropout=dropout, seed=123)\n",
    "\n",
    "  loss, grads = model.loss(X, y)\n",
    "  print('Initial loss: ', loss)\n",
    "\n",
    "  for name in sorted(grads):\n",
    "    f = lambda _: model.loss(X, y)[0]\n",
    "    grad_num = eval_numerical_gradient(f, model.params[name], verbose=False, h=1e-5)\n",
    "    print('{} relative error: {}'.format(name, rel_error(grad_num, grads[name])))\n",
    "  print('\\n')"
   ]
  },
  {
   "cell_type": "markdown",
   "metadata": {},
   "source": [
    "## Dropout as a regularizer\n",
    "\n",
    "In class, we claimed that dropout acts as a regularizer by effectively bagging.  To check this, we will train two small networks, one with dropout and one without dropout.  "
   ]
  },
  {
   "cell_type": "code",
   "execution_count": 7,
   "metadata": {},
   "outputs": [
    {
     "name": "stdout",
     "output_type": "stream",
     "text": [
      "(Iteration 1 / 125) loss: 2.300804\n",
      "(Epoch 0 / 25) train acc: 0.220000; val_acc: 0.168000\n",
      "(Epoch 1 / 25) train acc: 0.188000; val_acc: 0.147000\n",
      "(Epoch 2 / 25) train acc: 0.266000; val_acc: 0.200000\n",
      "(Epoch 3 / 25) train acc: 0.338000; val_acc: 0.262000\n",
      "(Epoch 4 / 25) train acc: 0.378000; val_acc: 0.278000\n",
      "(Epoch 5 / 25) train acc: 0.428000; val_acc: 0.297000\n",
      "(Epoch 6 / 25) train acc: 0.468000; val_acc: 0.323000\n",
      "(Epoch 7 / 25) train acc: 0.494000; val_acc: 0.287000\n",
      "(Epoch 8 / 25) train acc: 0.566000; val_acc: 0.328000\n",
      "(Epoch 9 / 25) train acc: 0.572000; val_acc: 0.322000\n",
      "(Epoch 10 / 25) train acc: 0.622000; val_acc: 0.324000\n",
      "(Epoch 11 / 25) train acc: 0.670000; val_acc: 0.279000\n",
      "(Epoch 12 / 25) train acc: 0.710000; val_acc: 0.338000\n",
      "(Epoch 13 / 25) train acc: 0.746000; val_acc: 0.319000\n",
      "(Epoch 14 / 25) train acc: 0.792000; val_acc: 0.307000\n",
      "(Epoch 15 / 25) train acc: 0.834000; val_acc: 0.297000\n",
      "(Epoch 16 / 25) train acc: 0.876000; val_acc: 0.327000\n",
      "(Epoch 17 / 25) train acc: 0.886000; val_acc: 0.320000\n",
      "(Epoch 18 / 25) train acc: 0.918000; val_acc: 0.314000\n",
      "(Epoch 19 / 25) train acc: 0.922000; val_acc: 0.290000\n",
      "(Epoch 20 / 25) train acc: 0.944000; val_acc: 0.306000\n",
      "(Iteration 101 / 125) loss: 0.156105\n",
      "(Epoch 21 / 25) train acc: 0.968000; val_acc: 0.302000\n",
      "(Epoch 22 / 25) train acc: 0.978000; val_acc: 0.302000\n",
      "(Epoch 23 / 25) train acc: 0.976000; val_acc: 0.289000\n",
      "(Epoch 24 / 25) train acc: 0.986000; val_acc: 0.285000\n",
      "(Epoch 25 / 25) train acc: 0.978000; val_acc: 0.311000\n",
      "(Iteration 1 / 125) loss: 2.301328\n",
      "(Epoch 0 / 25) train acc: 0.154000; val_acc: 0.143000\n",
      "(Epoch 1 / 25) train acc: 0.214000; val_acc: 0.195000\n",
      "(Epoch 2 / 25) train acc: 0.252000; val_acc: 0.216000\n",
      "(Epoch 3 / 25) train acc: 0.276000; val_acc: 0.200000\n",
      "(Epoch 4 / 25) train acc: 0.308000; val_acc: 0.254000\n",
      "(Epoch 5 / 25) train acc: 0.316000; val_acc: 0.241000\n",
      "(Epoch 6 / 25) train acc: 0.322000; val_acc: 0.282000\n",
      "(Epoch 7 / 25) train acc: 0.354000; val_acc: 0.273000\n",
      "(Epoch 8 / 25) train acc: 0.364000; val_acc: 0.276000\n",
      "(Epoch 9 / 25) train acc: 0.408000; val_acc: 0.282000\n",
      "(Epoch 10 / 25) train acc: 0.454000; val_acc: 0.302000\n",
      "(Epoch 11 / 25) train acc: 0.472000; val_acc: 0.297000\n",
      "(Epoch 12 / 25) train acc: 0.498000; val_acc: 0.318000\n",
      "(Epoch 13 / 25) train acc: 0.510000; val_acc: 0.309000\n",
      "(Epoch 14 / 25) train acc: 0.534000; val_acc: 0.315000\n",
      "(Epoch 15 / 25) train acc: 0.546000; val_acc: 0.331000\n",
      "(Epoch 16 / 25) train acc: 0.584000; val_acc: 0.302000\n",
      "(Epoch 17 / 25) train acc: 0.626000; val_acc: 0.332000\n",
      "(Epoch 18 / 25) train acc: 0.614000; val_acc: 0.328000\n",
      "(Epoch 19 / 25) train acc: 0.626000; val_acc: 0.324000\n",
      "(Epoch 20 / 25) train acc: 0.656000; val_acc: 0.336000\n",
      "(Iteration 101 / 125) loss: 1.297295\n",
      "(Epoch 21 / 25) train acc: 0.670000; val_acc: 0.325000\n",
      "(Epoch 22 / 25) train acc: 0.678000; val_acc: 0.328000\n",
      "(Epoch 23 / 25) train acc: 0.724000; val_acc: 0.345000\n",
      "(Epoch 24 / 25) train acc: 0.732000; val_acc: 0.327000\n",
      "(Epoch 25 / 25) train acc: 0.766000; val_acc: 0.338000\n"
     ]
    }
   ],
   "source": [
    "# Train two identical nets, one with dropout and one without\n",
    "\n",
    "num_train = 500\n",
    "small_data = {\n",
    "  'X_train': data['X_train'][:num_train],\n",
    "  'y_train': data['y_train'][:num_train],\n",
    "  'X_val': data['X_val'],\n",
    "  'y_val': data['y_val'],\n",
    "}\n",
    "\n",
    "solvers = {}\n",
    "dropout_choices = [0, 0.6]\n",
    "for dropout in dropout_choices:\n",
    "  model = FullyConnectedNet([100, 100, 100], dropout=dropout)\n",
    "\n",
    "  solver = Solver(model, small_data,\n",
    "                  num_epochs=25, batch_size=100,\n",
    "                  update_rule='adam',\n",
    "                  optim_config={\n",
    "                    'learning_rate': 5e-4,\n",
    "                  },\n",
    "                  verbose=True, print_every=100)\n",
    "  solver.train()\n",
    "  solvers[dropout] = solver"
   ]
  },
  {
   "cell_type": "code",
   "execution_count": 8,
   "metadata": {},
   "outputs": [
    {
     "data": {
      "image/png": "[encoded data removed]",
      "text/plain": [
       "<Figure size 1080x1080 with 2 Axes>"
      ]
     },
     "metadata": {
      "needs_background": "light"
     },
     "output_type": "display_data"
    }
   ],
   "source": [
    "# Plot train and validation accuracies of the two models\n",
    "\n",
    "train_accs = []\n",
    "val_accs = []\n",
    "for dropout in dropout_choices:\n",
    "  solver = solvers[dropout]\n",
    "  train_accs.append(solver.train_acc_history[-1])\n",
    "  val_accs.append(solver.val_acc_history[-1])\n",
    "\n",
    "plt.subplot(3, 1, 1)\n",
    "for dropout in dropout_choices:\n",
    "  plt.plot(solvers[dropout].train_acc_history, 'o', label='%.2f dropout' % dropout)\n",
    "plt.title('Train accuracy')\n",
    "plt.xlabel('Epoch')\n",
    "plt.ylabel('Accuracy')\n",
    "plt.legend(ncol=2, loc='lower right')\n",
    "  \n",
    "plt.subplot(3, 1, 2)\n",
    "for dropout in dropout_choices:\n",
    "  plt.plot(solvers[dropout].val_acc_history, 'o', label='%.2f dropout' % dropout)\n",
    "plt.title('Val accuracy')\n",
    "plt.xlabel('Epoch')\n",
    "plt.ylabel('Accuracy')\n",
    "plt.legend(ncol=2, loc='lower right')\n",
    "\n",
    "plt.gcf().set_size_inches(15, 15)\n",
    "plt.show()"
   ]
  },
  {
   "cell_type": "markdown",
   "metadata": {},
   "source": [
    "## Question\n",
    "\n",
    "Based off the results of this experiment, is dropout performing regularization?  Explain your answer."
   ]
  },
  {
   "cell_type": "markdown",
   "metadata": {},
   "source": [
    "## Answer:\n",
    "Yes. Though training error is higher with dropout, the validation accuracy is on par with no dropout. This tracks Goodfellow's definition of regularization reducing generalization error, but not training error."
   ]
  },
  {
   "cell_type": "markdown",
   "metadata": {},
   "source": [
    "## Final part of the assignment\n",
    "\n",
    "Get over 60% validation accuracy on CIFAR-10 by using the layers you have implemented.  You will be graded according to the following equation:\n",
    "\n",
    "min(floor((X - 32%)) / 28%, 1) \n",
    "where if you get 60% or higher validation accuracy, you get full points."
   ]
  },
  {
   "cell_type": "code",
   "execution_count": 56,
   "metadata": {
    "scrolled": false
   },
   "outputs": [
    {
     "name": "stdout",
     "output_type": "stream",
     "text": [
      "(Iteration 1 / 14700) loss: 2.298365\n",
      "(Epoch 0 / 15) train acc: 0.122000; val_acc: 0.121000\n",
      "(Iteration 201 / 14700) loss: 1.729914\n",
      "(Iteration 401 / 14700) loss: 1.649855\n",
      "(Iteration 601 / 14700) loss: 1.569568\n",
      "(Iteration 801 / 14700) loss: 1.767724\n",
      "(Epoch 1 / 15) train acc: 0.458000; val_acc: 0.451000\n",
      "(Iteration 1001 / 14700) loss: 1.702022\n",
      "(Iteration 1201 / 14700) loss: 1.533533\n",
      "(Iteration 1401 / 14700) loss: 1.236910\n",
      "(Iteration 1601 / 14700) loss: 1.465083\n",
      "(Iteration 1801 / 14700) loss: 1.251254\n",
      "(Epoch 2 / 15) train acc: 0.512000; val_acc: 0.491000\n",
      "(Iteration 2001 / 14700) loss: 1.693609\n",
      "(Iteration 2201 / 14700) loss: 1.457159\n",
      "(Iteration 2401 / 14700) loss: 1.527177\n",
      "(Iteration 2601 / 14700) loss: 1.254879\n",
      "(Iteration 2801 / 14700) loss: 1.537861\n",
      "(Epoch 3 / 15) train acc: 0.559000; val_acc: 0.520000\n",
      "(Iteration 3001 / 14700) loss: 1.414125\n",
      "(Iteration 3201 / 14700) loss: 1.436857\n",
      "(Iteration 3401 / 14700) loss: 1.361231\n",
      "(Iteration 3601 / 14700) loss: 1.219257\n",
      "(Iteration 3801 / 14700) loss: 1.612847\n",
      "(Epoch 4 / 15) train acc: 0.547000; val_acc: 0.534000\n",
      "(Iteration 4001 / 14700) loss: 1.256855\n",
      "(Iteration 4201 / 14700) loss: 1.117397\n",
      "(Iteration 4401 / 14700) loss: 1.181415\n",
      "(Iteration 4601 / 14700) loss: 1.174817\n",
      "(Iteration 4801 / 14700) loss: 1.576851\n",
      "(Epoch 5 / 15) train acc: 0.575000; val_acc: 0.536000\n",
      "(Iteration 5001 / 14700) loss: 1.278442\n",
      "(Iteration 5201 / 14700) loss: 1.283304\n",
      "(Iteration 5401 / 14700) loss: 1.419600\n",
      "(Iteration 5601 / 14700) loss: 1.430128\n",
      "(Iteration 5801 / 14700) loss: 1.145273\n",
      "(Epoch 6 / 15) train acc: 0.607000; val_acc: 0.544000\n",
      "(Iteration 6001 / 14700) loss: 1.169606\n",
      "(Iteration 6201 / 14700) loss: 1.229304\n",
      "(Iteration 6401 / 14700) loss: 1.063099\n",
      "(Iteration 6601 / 14700) loss: 1.231494\n",
      "(Iteration 6801 / 14700) loss: 1.112837\n",
      "(Epoch 7 / 15) train acc: 0.643000; val_acc: 0.555000\n",
      "(Iteration 7001 / 14700) loss: 1.607200\n",
      "(Iteration 7201 / 14700) loss: 1.063053\n",
      "(Iteration 7401 / 14700) loss: 1.474415\n",
      "(Iteration 7601 / 14700) loss: 0.861513\n",
      "(Iteration 7801 / 14700) loss: 1.289293\n",
      "(Epoch 8 / 15) train acc: 0.654000; val_acc: 0.558000\n",
      "(Iteration 8001 / 14700) loss: 1.116919\n",
      "(Iteration 8201 / 14700) loss: 0.919507\n",
      "(Iteration 8401 / 14700) loss: 1.202298\n",
      "(Iteration 8601 / 14700) loss: 1.484463\n",
      "(Iteration 8801 / 14700) loss: 1.170233\n",
      "(Epoch 9 / 15) train acc: 0.669000; val_acc: 0.556000\n",
      "(Iteration 9001 / 14700) loss: 1.358520\n",
      "(Iteration 9201 / 14700) loss: 1.109406\n",
      "(Iteration 9401 / 14700) loss: 1.424781\n",
      "(Iteration 9601 / 14700) loss: 1.287021\n",
      "(Epoch 10 / 15) train acc: 0.674000; val_acc: 0.572000\n",
      "(Iteration 9801 / 14700) loss: 1.235901\n",
      "(Iteration 10001 / 14700) loss: 1.201914\n",
      "(Iteration 10201 / 14700) loss: 1.064224\n",
      "(Iteration 10401 / 14700) loss: 1.017057\n",
      "(Iteration 10601 / 14700) loss: 1.069872\n",
      "(Epoch 11 / 15) train acc: 0.668000; val_acc: 0.575000\n",
      "(Iteration 10801 / 14700) loss: 0.925647\n",
      "(Iteration 11001 / 14700) loss: 1.028500\n",
      "(Iteration 11201 / 14700) loss: 0.916525\n",
      "(Iteration 11401 / 14700) loss: 1.025053\n",
      "(Iteration 11601 / 14700) loss: 0.937312\n",
      "(Epoch 12 / 15) train acc: 0.717000; val_acc: 0.574000\n",
      "(Iteration 11801 / 14700) loss: 0.935073\n",
      "(Iteration 12001 / 14700) loss: 0.893752\n",
      "(Iteration 12201 / 14700) loss: 1.034165\n",
      "(Iteration 12401 / 14700) loss: 1.009828\n",
      "(Iteration 12601 / 14700) loss: 1.026963\n",
      "(Epoch 13 / 15) train acc: 0.688000; val_acc: 0.566000\n",
      "(Iteration 12801 / 14700) loss: 1.308563\n",
      "(Iteration 13001 / 14700) loss: 1.230181\n",
      "(Iteration 13201 / 14700) loss: 0.865564\n",
      "(Iteration 13401 / 14700) loss: 0.870364\n",
      "(Iteration 13601 / 14700) loss: 1.148076\n",
      "(Epoch 14 / 15) train acc: 0.718000; val_acc: 0.575000\n",
      "(Iteration 13801 / 14700) loss: 1.124071\n",
      "(Iteration 14001 / 14700) loss: 1.050224\n",
      "(Iteration 14201 / 14700) loss: 0.874269\n",
      "(Iteration 14401 / 14700) loss: 1.009604\n",
      "(Iteration 14601 / 14700) loss: 1.488899\n",
      "(Epoch 15 / 15) train acc: 0.714000; val_acc: 0.580000\n"
     ]
    }
   ],
   "source": [
    "# ================================================================ #\n",
    "# YOUR CODE HERE:\n",
    "#   Implement a FC-net that achieves at least 60% validation accuracy\n",
    "#   on CIFAR-10.\n",
    "# ================================================================ #\n",
    "layer_dims = [500, 200, 200, 500]\n",
    "weight_scale = 0.01\n",
    "learning_rate = 1e-3\n",
    "lr_decay = 0.9\n",
    "\n",
    "model = FullyConnectedNet(layer_dims, weight_scale=weight_scale,\n",
    "                          use_batchnorm = True, dropout = 0.8)\n",
    "solver = Solver(model, data,\n",
    "                num_epochs=15, batch_size=50,\n",
    "                update_rule='adam',\n",
    "                optim_config={\n",
    "                  'learning_rate': 1e-3,\n",
    "                },\n",
    "                lr_decay=lr_decay,\n",
    "                verbose=True, print_every=200)\n",
    "solver.train()\n",
    "\n",
    "# ================================================================ #\n",
    "# END YOUR CODE HERE\n",
    "# ================================================================ #\n"
   ]
  },
  {
   "cell_type": "code",
   "execution_count": 57,
   "metadata": {},
   "outputs": [
    {
     "name": "stdout",
     "output_type": "stream",
     "text": [
      "Validation set accuracy: 0.582\n",
      "Test set accuracy: 0.569\n"
     ]
    }
   ],
   "source": [
    "y_test_pred = np.argmax(model.loss(data['X_test']), axis=1)\n",
    "y_val_pred = np.argmax(model.loss(data['X_val']), axis=1)\n",
    "print('Validation set accuracy: {}'.format(np.mean(y_val_pred == data['y_val'])))\n",
    "print('Test set accuracy: {}'.format(np.mean(y_test_pred == data['y_test'])))"
   ]
  },
  {
   "cell_type": "code",
   "execution_count": null,
   "metadata": {},
   "outputs": [],
   "source": []
  }
 ],
 "metadata": {
  "kernelspec": {
   "display_name": "Python 3",
   "language": "python",
   "name": "python3"
  },
  "language_info": {
   "codemirror_mode": {
    "name": "ipython",
    "version": 3
   },
   "file_extension": ".py",
   "mimetype": "text/x-python",
   "name": "python",
   "nbconvert_exporter": "python",
   "pygments_lexer": "ipython3",
   "version": "3.7.1"
  }
 },
 "nbformat": 4,
 "nbformat_minor": 2
}
